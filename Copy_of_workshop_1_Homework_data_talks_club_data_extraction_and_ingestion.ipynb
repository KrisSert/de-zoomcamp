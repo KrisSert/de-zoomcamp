{
  "nbformat": 4,
  "nbformat_minor": 0,
  "metadata": {
    "colab": {
      "provenance": [],
      "include_colab_link": true
    },
    "kernelspec": {
      "name": "python3",
      "display_name": "Python 3"
    },
    "language_info": {
      "name": "python"
    }
  },
  "cells": [
    {
      "cell_type": "markdown",
      "metadata": {
        "id": "view-in-github",
        "colab_type": "text"
      },
      "source": [
        "<a href=\"https://colab.research.google.com/github/KrisSert/de-zoomcamp/blob/master/Copy_of_workshop_1_Homework_data_talks_club_data_extraction_and_ingestion.ipynb\" target=\"_parent\"><img src=\"https://colab.research.google.com/assets/colab-badge.svg\" alt=\"Open In Colab\"/></a>"
      ]
    },
    {
      "cell_type": "markdown",
      "source": [
        "# **Homework**: Data talks club data engineering zoomcamp Data loading workshop\n",
        "\n",
        "Hello folks, let's practice what we learned - Loading data with the best practices of data engineering.\n",
        "\n",
        "Here are the exercises we will do\n",
        "\n",
        "\n"
      ],
      "metadata": {
        "id": "mrTFv5nPClXh"
      }
    },
    {
      "cell_type": "markdown",
      "source": [
        "# 1. Use a generator\n",
        "\n",
        "Remember the concept of generator? Let's practice using them to futher our understanding of how they work.\n",
        "\n",
        "Let's define a generator and then run it as practice.\n",
        "\n",
        "**Answer the following questions:**\n",
        "\n",
        "- **Question 1: What is the sum of the outputs of the generator for limit = 5?**\n",
        "- **Question 2: What is the 13th number yielded**\n",
        "\n",
        "I suggest practicing these questions without GPT as the purpose is to further your learning."
      ],
      "metadata": {
        "id": "wLF4iXf-NR7t"
      }
    },
    {
      "cell_type": "code",
      "source": [
        "def square_root_generator(limit):\n",
        "    n = 1\n",
        "    while n <= limit:\n",
        "        yield n ** 0.5\n",
        "        n += 1\n",
        "\n",
        "# Example usage:\n",
        "limit = 5\n",
        "generator = square_root_generator(limit)\n",
        "\n",
        "# Q1\n",
        "sum = 0\n",
        "for sqrt_value in generator:\n",
        "    sum += sqrt_value\n",
        "print(sum)\n",
        "\n",
        "# Q2\n",
        "generator_13 = square_root_generator(13)\n",
        "for _ in range(13):\n",
        "  el = next(generator_13)\n",
        "print(el)\n",
        "\n"
      ],
      "metadata": {
        "colab": {
          "base_uri": "https://localhost:8080/"
        },
        "id": "wLng-bDJN4jf",
        "outputId": "07101e15-09f4-4ab3-fb70-5769079f5617"
      },
      "execution_count": 2,
      "outputs": [
        {
          "output_type": "stream",
          "name": "stdout",
          "text": [
            "8.382332347441762\n",
            "3.605551275463989\n"
          ]
        }
      ]
    },
    {
      "cell_type": "markdown",
      "source": [],
      "metadata": {
        "id": "xbe3q55zN43j"
      }
    },
    {
      "cell_type": "markdown",
      "source": [
        "# 2. Append a generator to a table with existing data\n",
        "\n",
        "\n",
        "Below you have 2 generators. You will be tasked to load them to duckdb and answer some questions from the data\n",
        "\n",
        "1. Load the first generator and calculate the sum of ages of all people. Make sure to only load it once.\n",
        "2. Append the second generator to the same table as the first.\n",
        "3. **After correctly appending the data, calculate the sum of all ages of people.**\n",
        "\n",
        "\n"
      ],
      "metadata": {
        "id": "vjWhILzGJMpK"
      }
    },
    {
      "cell_type": "code",
      "execution_count": 30,
      "metadata": {
        "colab": {
          "base_uri": "https://localhost:8080/",
          "height": 1000
        },
        "id": "2MoaQcdLBEk6",
        "outputId": "1bb079ae-d332-4269-b04f-a738655910b0"
      },
      "outputs": [
        {
          "output_type": "stream",
          "name": "stdout",
          "text": [
            "{'ID': 1, 'Name': 'Person_1', 'Age': 26, 'City': 'City_A'}\n",
            "{'ID': 2, 'Name': 'Person_2', 'Age': 27, 'City': 'City_A'}\n",
            "{'ID': 3, 'Name': 'Person_3', 'Age': 28, 'City': 'City_A'}\n",
            "{'ID': 4, 'Name': 'Person_4', 'Age': 29, 'City': 'City_A'}\n",
            "{'ID': 5, 'Name': 'Person_5', 'Age': 30, 'City': 'City_A'}\n",
            "{'ID': 3, 'Name': 'Person_3', 'Age': 33, 'City': 'City_B', 'Occupation': 'Job_3'}\n",
            "{'ID': 4, 'Name': 'Person_4', 'Age': 34, 'City': 'City_B', 'Occupation': 'Job_4'}\n",
            "{'ID': 5, 'Name': 'Person_5', 'Age': 35, 'City': 'City_B', 'Occupation': 'Job_5'}\n",
            "{'ID': 6, 'Name': 'Person_6', 'Age': 36, 'City': 'City_B', 'Occupation': 'Job_6'}\n",
            "{'ID': 7, 'Name': 'Person_7', 'Age': 37, 'City': 'City_B', 'Occupation': 'Job_7'}\n",
            "{'ID': 8, 'Name': 'Person_8', 'Age': 38, 'City': 'City_B', 'Occupation': 'Job_8'}\n",
            "Pipeline test_pipeline load step completed in 0.35 seconds\n",
            "1 load package(s) were loaded to destination duckdb and into dataset dataset\n",
            "The duckdb destination used duckdb:////content/test_pipeline.duckdb location to store data\n",
            "Load package 1707764941.0974047 is LOADED and contains no failed jobs\n"
          ]
        },
        {
          "output_type": "display_data",
          "data": {
            "text/plain": [
              "┌───────┬──────────┬───────┬─────────┬────────────────────┬────────────────┬────────────┐\n",
              "│  id   │   name   │  age  │  city   │    _dlt_load_id    │    _dlt_id     │ occupation │\n",
              "│ int64 │ varchar  │ int64 │ varchar │      varchar       │    varchar     │  varchar   │\n",
              "├───────┼──────────┼───────┼─────────┼────────────────────┼────────────────┼────────────┤\n",
              "│     1 │ Person_1 │    26 │ City_A  │ 1707764941.0974047 │ x6plJm36sA4kVA │ NULL       │\n",
              "│     2 │ Person_2 │    27 │ City_A  │ 1707764941.0974047 │ GH2khTwg7Giukg │ NULL       │\n",
              "│     3 │ Person_3 │    28 │ City_A  │ 1707764941.0974047 │ iZ/wMzc0DtRArg │ NULL       │\n",
              "│     4 │ Person_4 │    29 │ City_A  │ 1707764941.0974047 │ 0U0DLD+/UuKsHQ │ NULL       │\n",
              "│     5 │ Person_5 │    30 │ City_A  │ 1707764941.0974047 │ wKEH+ykK3jzTmw │ NULL       │\n",
              "└───────┴──────────┴───────┴─────────┴────────────────────┴────────────────┴────────────┘"
            ]
          },
          "metadata": {}
        },
        {
          "output_type": "display_data",
          "data": {
            "text/plain": [
              "┌──────────┐\n",
              "│ sum(age) │\n",
              "│  int128  │\n",
              "├──────────┤\n",
              "│      140 │\n",
              "└──────────┘"
            ]
          },
          "metadata": {}
        },
        {
          "output_type": "stream",
          "name": "stdout",
          "text": [
            "Pipeline test_pipeline load step completed in 0.22 seconds\n",
            "1 load package(s) were loaded to destination duckdb and into dataset dataset\n",
            "The duckdb destination used duckdb:////content/test_pipeline.duckdb location to store data\n",
            "Load package 1707764941.931941 is LOADED and contains no failed jobs\n"
          ]
        },
        {
          "output_type": "display_data",
          "data": {
            "text/plain": [
              "┌───────┬──────────┬───────┬─────────┬────────────────────┬────────────────┬────────────┐\n",
              "│  id   │   name   │  age  │  city   │    _dlt_load_id    │    _dlt_id     │ occupation │\n",
              "│ int64 │ varchar  │ int64 │ varchar │      varchar       │    varchar     │  varchar   │\n",
              "├───────┼──────────┼───────┼─────────┼────────────────────┼────────────────┼────────────┤\n",
              "│     1 │ Person_1 │    26 │ City_A  │ 1707764941.0974047 │ x6plJm36sA4kVA │ NULL       │\n",
              "│     2 │ Person_2 │    27 │ City_A  │ 1707764941.0974047 │ GH2khTwg7Giukg │ NULL       │\n",
              "│     3 │ Person_3 │    28 │ City_A  │ 1707764941.0974047 │ iZ/wMzc0DtRArg │ NULL       │\n",
              "│     4 │ Person_4 │    29 │ City_A  │ 1707764941.0974047 │ 0U0DLD+/UuKsHQ │ NULL       │\n",
              "│     5 │ Person_5 │    30 │ City_A  │ 1707764941.0974047 │ wKEH+ykK3jzTmw │ NULL       │\n",
              "│     3 │ Person_3 │    33 │ City_B  │ 1707764941.931941  │ i4d8ulwLddFQog │ Job_3      │\n",
              "│     4 │ Person_4 │    34 │ City_B  │ 1707764941.931941  │ 6PApTzqU9lZdbw │ Job_4      │\n",
              "│     5 │ Person_5 │    35 │ City_B  │ 1707764941.931941  │ wUiRcMam1AMaGQ │ Job_5      │\n",
              "│     6 │ Person_6 │    36 │ City_B  │ 1707764941.931941  │ /A2GEqjuMJUq6A │ Job_6      │\n",
              "│     7 │ Person_7 │    37 │ City_B  │ 1707764941.931941  │ mDOq7dtrHqf4TQ │ Job_7      │\n",
              "│     8 │ Person_8 │    38 │ City_B  │ 1707764941.931941  │ L9HxcHv+Mk0O8w │ Job_8      │\n",
              "├───────┴──────────┴───────┴─────────┴────────────────────┴────────────────┴────────────┤\n",
              "│ 11 rows                                                                     7 columns │\n",
              "└───────────────────────────────────────────────────────────────────────────────────────┘"
            ]
          },
          "metadata": {}
        },
        {
          "output_type": "display_data",
          "data": {
            "text/plain": [
              "┌──────────┐\n",
              "│ sum(age) │\n",
              "│  int128  │\n",
              "├──────────┤\n",
              "│      353 │\n",
              "└──────────┘"
            ]
          },
          "metadata": {}
        }
      ],
      "source": [
        "import duckdb\n",
        "import dlt\n",
        "\n",
        "def people_1():\n",
        "    for i in range(1, 6):\n",
        "        yield {\"ID\": i, \"Name\": f\"Person_{i}\", \"Age\": 25 + i, \"City\": \"City_A\"}\n",
        "\n",
        "for person in people_1():\n",
        "  print(person)\n",
        "\n",
        "def people_2():\n",
        "    for i in range(3, 9):\n",
        "        yield {\"ID\": i, \"Name\": f\"Person_{i}\", \"Age\": 30 + i, \"City\": \"City_B\", \"Occupation\": f\"Job_{i}\"}\n",
        "\n",
        "for person in people_2():\n",
        "  print(person)\n",
        "\n",
        "# 1.\n",
        "# define the connection to load to.\n",
        "pipeline = dlt.pipeline(pipeline_name=\"test_pipeline\",\n",
        "                        destination='duckdb',\n",
        "                        dataset_name='dataset')\n",
        "\n",
        "# run the pipeline with default settings, and capture the outcome\n",
        "info = pipeline.run(people_1(),\n",
        "                    table_name=\"peoples\",\n",
        "                    write_disposition=\"replace\")\n",
        "\n",
        "# show the outcome\n",
        "print(info)\n",
        "conn = duckdb.connect(\"test_pipeline.duckdb\")\n",
        "display(conn.sql(\"select * from test_pipeline.dataset.peoples\"))\n",
        "\n",
        "# get the sum:\n",
        "display(conn.sql(\"select sum(age) from test_pipeline.dataset.peoples\"))\n",
        "\n",
        "\n",
        "# 2.\n",
        "info = pipeline.run(people_2(),\n",
        "                    table_name=\"peoples\",\n",
        "                    write_disposition=\"append\")\n",
        "# show the outcome\n",
        "print(info)\n",
        "conn = duckdb.connect(\"test_pipeline.duckdb\")\n",
        "display(conn.sql(\"select * from test_pipeline.dataset.peoples\"))\n",
        "\n",
        "# get the sum:\n",
        "display(conn.sql(\"select sum(age) from test_pipeline.dataset.peoples\"))"
      ]
    },
    {
      "cell_type": "markdown",
      "source": [],
      "metadata": {
        "id": "vtdTIm4fvQCN"
      }
    },
    {
      "cell_type": "markdown",
      "source": [
        "# 3. Merge a generator\n",
        "\n",
        "Re-use the generators from Exercise 2.\n",
        "\n",
        "A table's primary key needs to be created from the start, so load your data to a new table with primary key ID.\n",
        "\n",
        "Load your first generator first, and then load the second one with merge. Since they have overlapping IDs, some of the records from the first load should be replaced by the ones from the second load.\n",
        "\n",
        "After loading, you should have a total of 8 records, and ID 3 should have age 33.\n",
        "\n",
        "Question: **Calculate the sum of ages of all the people loaded as described above.**\n"
      ],
      "metadata": {
        "id": "pY4cFAWOSwN1"
      }
    },
    {
      "cell_type": "markdown",
      "source": [
        "# Solution: First make sure that the following modules are installed:"
      ],
      "metadata": {
        "id": "kKB2GTB9oVjr"
      }
    },
    {
      "cell_type": "code",
      "source": [
        "#Install the dependencies\n",
        "%%capture\n",
        "!pip install dlt[duckdb]"
      ],
      "metadata": {
        "id": "xTVvtyqrfVNq"
      },
      "execution_count": 3,
      "outputs": []
    },
    {
      "cell_type": "code",
      "source": [
        "import duckdb\n",
        "import dlt\n",
        "\n",
        "def people_1():\n",
        "    for i in range(1, 6):\n",
        "        yield {\"ID\": i, \"Name\": f\"Person_{i}\", \"Age\": 25 + i, \"City\": \"City_A\"}\n",
        "\n",
        "for person in people_1():\n",
        "  print(person)\n",
        "\n",
        "def people_2():\n",
        "    for i in range(3, 9):\n",
        "        yield {\"ID\": i, \"Name\": f\"Person_{i}\", \"Age\": 30 + i, \"City\": \"City_B\", \"Occupation\": f\"Job_{i}\"}\n",
        "\n",
        "for person in people_2():\n",
        "  print(person)\n",
        "\n",
        "# 1.\n",
        "# define the connection to load to.\n",
        "pipeline = dlt.pipeline(pipeline_name=\"test_pipeline\",\n",
        "                        destination='duckdb',\n",
        "                        dataset_name='dataset')\n",
        "\n",
        "# run the pipeline with default settings, and capture the outcome\n",
        "info = pipeline.run(people_1(),\n",
        "                    table_name=\"peoples2\",\n",
        "                    write_disposition=\"merge\",\n",
        "                    primary_key=\"id\")\n",
        "\n",
        "# show the outcome\n",
        "print(info)\n",
        "conn = duckdb.connect(\"test_pipeline.duckdb\")\n",
        "display(conn.sql(\"select * from test_pipeline.dataset.peoples2\"))\n",
        "\n",
        "\n",
        "# 2.\n",
        "info = pipeline.run(people_2(),\n",
        "                    table_name=\"peoples2\",\n",
        "                    write_disposition=\"merge\",\n",
        "                    primary_key=\"id\")\n",
        "\n",
        "# show the outcome\n",
        "print(info)\n",
        "conn = duckdb.connect(\"test_pipeline.duckdb\")\n",
        "display(conn.sql(\"select * from test_pipeline.dataset.peoples2\"))\n",
        "\n",
        "# get the sum:\n",
        "display(conn.sql(\"select sum(age) from test_pipeline.dataset.peoples2\"))"
      ],
      "metadata": {
        "id": "a2-PRBAkGC2K",
        "colab": {
          "base_uri": "https://localhost:8080/",
          "height": 903
        },
        "outputId": "b402f2a9-ddf5-45a2-c795-5d6a1cb5b098"
      },
      "execution_count": 38,
      "outputs": [
        {
          "output_type": "stream",
          "name": "stdout",
          "text": [
            "{'ID': 1, 'Name': 'Person_1', 'Age': 26, 'City': 'City_A'}\n",
            "{'ID': 2, 'Name': 'Person_2', 'Age': 27, 'City': 'City_A'}\n",
            "{'ID': 3, 'Name': 'Person_3', 'Age': 28, 'City': 'City_A'}\n",
            "{'ID': 4, 'Name': 'Person_4', 'Age': 29, 'City': 'City_A'}\n",
            "{'ID': 5, 'Name': 'Person_5', 'Age': 30, 'City': 'City_A'}\n",
            "{'ID': 3, 'Name': 'Person_3', 'Age': 33, 'City': 'City_B', 'Occupation': 'Job_3'}\n",
            "{'ID': 4, 'Name': 'Person_4', 'Age': 34, 'City': 'City_B', 'Occupation': 'Job_4'}\n",
            "{'ID': 5, 'Name': 'Person_5', 'Age': 35, 'City': 'City_B', 'Occupation': 'Job_5'}\n",
            "{'ID': 6, 'Name': 'Person_6', 'Age': 36, 'City': 'City_B', 'Occupation': 'Job_6'}\n",
            "{'ID': 7, 'Name': 'Person_7', 'Age': 37, 'City': 'City_B', 'Occupation': 'Job_7'}\n",
            "{'ID': 8, 'Name': 'Person_8', 'Age': 38, 'City': 'City_B', 'Occupation': 'Job_8'}\n",
            "Pipeline test_pipeline load step completed in 0.34 seconds\n",
            "1 load package(s) were loaded to destination duckdb and into dataset dataset\n",
            "The duckdb destination used duckdb:////content/test_pipeline.duckdb location to store data\n",
            "Load package 1707765558.3715842 is LOADED and contains no failed jobs\n"
          ]
        },
        {
          "output_type": "display_data",
          "data": {
            "text/plain": [
              "┌───────┬──────────┬───────┬─────────┬────────────────────┬────────────────┬────────────┐\n",
              "│  id   │   name   │  age  │  city   │    _dlt_load_id    │    _dlt_id     │ occupation │\n",
              "│ int64 │ varchar  │ int64 │ varchar │      varchar       │    varchar     │  varchar   │\n",
              "├───────┼──────────┼───────┼─────────┼────────────────────┼────────────────┼────────────┤\n",
              "│     8 │ Person_8 │    38 │ City_B  │ 1707765477.981848  │ IyPkeh6GvCXv+w │ Job_8      │\n",
              "│     7 │ Person_7 │    37 │ City_B  │ 1707765477.981848  │ P+5YMV2HCrdJkA │ Job_7      │\n",
              "│     6 │ Person_6 │    36 │ City_B  │ 1707765477.981848  │ yAi3mlQYWAgwmg │ Job_6      │\n",
              "│     5 │ Person_5 │    30 │ City_A  │ 1707765558.3715842 │ Wt6NCdvOFUmigw │ NULL       │\n",
              "│     4 │ Person_4 │    29 │ City_A  │ 1707765558.3715842 │ 7XZtLaqlb5RRTg │ NULL       │\n",
              "│     2 │ Person_2 │    27 │ City_A  │ 1707765558.3715842 │ RmIVHK1MoYiUFQ │ NULL       │\n",
              "│     1 │ Person_1 │    26 │ City_A  │ 1707765558.3715842 │ e0lbY2gTBbLGkw │ NULL       │\n",
              "│     3 │ Person_3 │    28 │ City_A  │ 1707765558.3715842 │ d4eOZ5ZolCWsZw │ NULL       │\n",
              "└───────┴──────────┴───────┴─────────┴────────────────────┴────────────────┴────────────┘"
            ]
          },
          "metadata": {}
        },
        {
          "output_type": "stream",
          "name": "stdout",
          "text": [
            "Pipeline test_pipeline load step completed in 0.34 seconds\n",
            "1 load package(s) were loaded to destination duckdb and into dataset dataset\n",
            "The duckdb destination used duckdb:////content/test_pipeline.duckdb location to store data\n",
            "Load package 1707765559.143568 is LOADED and contains no failed jobs\n"
          ]
        },
        {
          "output_type": "display_data",
          "data": {
            "text/plain": [
              "┌───────┬──────────┬───────┬─────────┬────────────────────┬────────────────┬────────────┐\n",
              "│  id   │   name   │  age  │  city   │    _dlt_load_id    │    _dlt_id     │ occupation │\n",
              "│ int64 │ varchar  │ int64 │ varchar │      varchar       │    varchar     │  varchar   │\n",
              "├───────┼──────────┼───────┼─────────┼────────────────────┼────────────────┼────────────┤\n",
              "│     2 │ Person_2 │    27 │ City_A  │ 1707765558.3715842 │ RmIVHK1MoYiUFQ │ NULL       │\n",
              "│     1 │ Person_1 │    26 │ City_A  │ 1707765558.3715842 │ e0lbY2gTBbLGkw │ NULL       │\n",
              "│     5 │ Person_5 │    35 │ City_B  │ 1707765559.143568  │ iXB7WRGJOXjESg │ Job_5      │\n",
              "│     8 │ Person_8 │    38 │ City_B  │ 1707765559.143568  │ aMrNqhn0p4/X2w │ Job_8      │\n",
              "│     7 │ Person_7 │    37 │ City_B  │ 1707765559.143568  │ TDcSWkMtChwsYg │ Job_7      │\n",
              "│     4 │ Person_4 │    34 │ City_B  │ 1707765559.143568  │ PR7gwcwuy5vZ1g │ Job_4      │\n",
              "│     3 │ Person_3 │    33 │ City_B  │ 1707765559.143568  │ Qljp3R2mdFEhYw │ Job_3      │\n",
              "│     6 │ Person_6 │    36 │ City_B  │ 1707765559.143568  │ qmunnB8ncsSEoA │ Job_6      │\n",
              "└───────┴──────────┴───────┴─────────┴────────────────────┴────────────────┴────────────┘"
            ]
          },
          "metadata": {}
        },
        {
          "output_type": "display_data",
          "data": {
            "text/plain": [
              "┌──────────┐\n",
              "│ sum(age) │\n",
              "│  int128  │\n",
              "├──────────┤\n",
              "│      266 │\n",
              "└──────────┘"
            ]
          },
          "metadata": {}
        }
      ]
    },
    {
      "cell_type": "markdown",
      "source": [
        "Questions? difficulties? We are here to help.\n",
        "- DTC data engineering course channel: https://datatalks-club.slack.com/archives/C01FABYF2RG\n",
        "- dlt's DTC cohort channel: https://dlthub-community.slack.com/archives/C06GAEX2VNX"
      ],
      "metadata": {
        "id": "PoTJu4kbGG0z"
      }
    }
  ]
}